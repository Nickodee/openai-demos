{
 "cells": [
  {
   "cell_type": "code",
   "execution_count": 2,
   "metadata": {},
   "outputs": [
    {
     "name": "stdout",
     "output_type": "stream",
     "text": [
      "Requirement already satisfied: langchain in /home/nicodemus/N-Tech/pgVector/env/lib/python3.7/site-packages (0.0.27)\n",
      "Requirement already satisfied: numpy in /home/nicodemus/N-Tech/pgVector/env/lib/python3.7/site-packages (from langchain) (1.21.6)\n",
      "Requirement already satisfied: pydantic in /home/nicodemus/N-Tech/pgVector/env/lib/python3.7/site-packages (from langchain) (1.10.9)\n",
      "Requirement already satisfied: pyyaml in /home/nicodemus/N-Tech/pgVector/env/lib/python3.7/site-packages (from langchain) (6.0)\n",
      "Requirement already satisfied: sqlalchemy in /home/nicodemus/N-Tech/pgVector/env/lib/python3.7/site-packages (from langchain) (2.0.17)\n",
      "Requirement already satisfied: requests in /home/nicodemus/N-Tech/pgVector/env/lib/python3.7/site-packages (from langchain) (2.31.0)\n",
      "Requirement already satisfied: typing-extensions>=4.2.0 in /home/nicodemus/N-Tech/pgVector/env/lib/python3.7/site-packages (from pydantic->langchain) (4.6.3)\n",
      "Requirement already satisfied: importlib-metadata; python_version < \"3.8\" in /home/nicodemus/N-Tech/pgVector/env/lib/python3.7/site-packages (from sqlalchemy->langchain) (6.7.0)\n",
      "Requirement already satisfied: greenlet!=0.4.17; platform_machine == \"aarch64\" or (platform_machine == \"ppc64le\" or (platform_machine == \"x86_64\" or (platform_machine == \"amd64\" or (platform_machine == \"AMD64\" or (platform_machine == \"win32\" or platform_machine == \"WIN32\"))))) in /home/nicodemus/N-Tech/pgVector/env/lib/python3.7/site-packages (from sqlalchemy->langchain) (2.0.2)\n",
      "Requirement already satisfied: urllib3<3,>=1.21.1 in /home/nicodemus/N-Tech/pgVector/env/lib/python3.7/site-packages (from requests->langchain) (2.0.3)\n",
      "Requirement already satisfied: charset-normalizer<4,>=2 in /home/nicodemus/N-Tech/pgVector/env/lib/python3.7/site-packages (from requests->langchain) (3.1.0)\n",
      "Requirement already satisfied: idna<4,>=2.5 in /home/nicodemus/N-Tech/pgVector/env/lib/python3.7/site-packages (from requests->langchain) (3.4)\n",
      "Requirement already satisfied: certifi>=2017.4.17 in /home/nicodemus/N-Tech/pgVector/env/lib/python3.7/site-packages (from requests->langchain) (2023.5.7)\n",
      "Requirement already satisfied: zipp>=0.5 in /home/nicodemus/N-Tech/pgVector/env/lib/python3.7/site-packages (from importlib-metadata; python_version < \"3.8\"->sqlalchemy->langchain) (3.15.0)\n",
      "\u001b[33mYou are using pip version 19.0.3, however version 23.1.2 is available.\n",
      "You should consider upgrading via the 'pip install --upgrade pip' command.\u001b[0m\n"
     ]
    }
   ],
   "source": [
    "!pip install langchain"
   ]
  },
  {
   "cell_type": "code",
   "execution_count": 3,
   "metadata": {},
   "outputs": [
    {
     "ename": "ModuleNotFoundError",
     "evalue": "No module named 'langchain.llms.human'",
     "output_type": "error",
     "traceback": [
      "\u001b[0;31m---------------------------------------------------------------------------\u001b[0m",
      "\u001b[0;31mModuleNotFoundError\u001b[0m                       Traceback (most recent call last)",
      "\u001b[0;32m/tmp/ipykernel_28772/3457525647.py\u001b[0m in \u001b[0;36m<module>\u001b[0;34m\u001b[0m\n\u001b[0;32m----> 1\u001b[0;31m \u001b[0;32mfrom\u001b[0m \u001b[0mlangchain\u001b[0m\u001b[0;34m.\u001b[0m\u001b[0mllms\u001b[0m\u001b[0;34m.\u001b[0m\u001b[0mhuman\u001b[0m \u001b[0;32mimport\u001b[0m \u001b[0mHumanInputLLM\u001b[0m\u001b[0;34m\u001b[0m\u001b[0;34m\u001b[0m\u001b[0m\n\u001b[0m\u001b[1;32m      2\u001b[0m \u001b[0;32mfrom\u001b[0m \u001b[0mlangchain\u001b[0m\u001b[0;34m.\u001b[0m\u001b[0magents\u001b[0m \u001b[0;32mimport\u001b[0m \u001b[0mload_tools\u001b[0m\u001b[0;34m\u001b[0m\u001b[0;34m\u001b[0m\u001b[0m\n\u001b[1;32m      3\u001b[0m \u001b[0;32mfrom\u001b[0m \u001b[0mlangchain\u001b[0m\u001b[0;34m.\u001b[0m\u001b[0magents\u001b[0m \u001b[0;32mimport\u001b[0m \u001b[0minitialize_agent\u001b[0m\u001b[0;34m\u001b[0m\u001b[0;34m\u001b[0m\u001b[0m\n\u001b[1;32m      4\u001b[0m \u001b[0;32mfrom\u001b[0m \u001b[0mlangchain\u001b[0m\u001b[0;34m.\u001b[0m\u001b[0magents\u001b[0m \u001b[0;32mimport\u001b[0m \u001b[0mAgentType\u001b[0m\u001b[0;34m\u001b[0m\u001b[0;34m\u001b[0m\u001b[0m\n\u001b[1;32m      5\u001b[0m \u001b[0;34m\u001b[0m\u001b[0m\n",
      "\u001b[0;31mModuleNotFoundError\u001b[0m: No module named 'langchain.llms.human'"
     ]
    }
   ],
   "source": [
    "from langchain.llms.human import HumanInputLLM\n",
    "from langchain.agents import load_tools\n",
    "from langchain.agents import initialize_agent\n",
    "from langchain.agents import AgentType\n",
    "\n",
    "tools = load_tools([\"wikipedia\"])\n",
    "llm = HumanInputLLM(prompt_func=lambda prompt: print(f\"\\n===PROMPT====\\n{prompt}\\n=====END OF PROMPT======\"))\n",
    "\n",
    "agent = initialize_agent(tools, llm, agent=AgentType.ZERO_SHOT_REACT_DESCRIPTION, verbose=True)"
   ]
  },
  {
   "cell_type": "code",
   "execution_count": null,
   "metadata": {},
   "outputs": [],
   "source": []
  },
  {
   "cell_type": "code",
   "execution_count": null,
   "metadata": {},
   "outputs": [],
   "source": [
    "agent.run(\"What is 'Bocchi the Rock!'?\")"
   ]
  }
 ],
 "metadata": {
  "kernelspec": {
   "display_name": ".venv",
   "language": "python",
   "name": "python3"
  },
  "language_info": {
   "codemirror_mode": {
    "name": "ipython",
    "version": 3
   },
   "file_extension": ".py",
   "mimetype": "text/x-python",
   "name": "python",
   "nbconvert_exporter": "python",
   "pygments_lexer": "ipython3",
   "version": "3.7.3"
  },
  "orig_nbformat": 4
 },
 "nbformat": 4,
 "nbformat_minor": 2
}
