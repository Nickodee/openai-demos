{
 "cells": [
  {
   "cell_type": "code",
   "execution_count": 32,
   "metadata": {},
   "outputs": [],
   "source": [
    "from langchain.llms.fake import FakeListLLM\n",
    "from langchain.agents import load_tools, initialize_agent, Tool, AgentType\n",
    "\n",
    "responses=[\n",
    "    \"Action: Python REPL\\nAction Input: print(2 + 5)\",\n",
    "    \"Action: Calculator\\nAction Input: 7\",\n",
    "    \"Final Answer: 4\"\n",
    "]\n",
    "llm = FakeListLLM(responses=responses)\n",
    "tools = load_tools([\"python_repl\"])\n",
    "\n",
    "tools.append(\n",
    "    Tool(\n",
    "        name=\"Calculator\",\n",
    "        func=(lambda x: x),\n",
    "        description=\"useful for when you need to answer questions about math\",\n",
    "        # args_schema=CalculatorInput\n",
    "    )\n",
    ")\n",
    "\n",
    "agent = initialize_agent(tools, llm, agent=AgentType.ZERO_SHOT_REACT_DESCRIPTION, verbose=True)"
   ]
  },
  {
   "cell_type": "code",
   "execution_count": 33,
   "metadata": {},
   "outputs": [
    {
     "name": "stdout",
     "output_type": "stream",
     "text": [
      "\n",
      "\n",
      "\u001b[1m> Entering new AgentExecutor chain...\u001b[0m\n",
      "\u001b[32;1m\u001b[1;3mAction: Python REPL\n",
      "Action Input: print(2 + 5)\u001b[0m\n",
      "Observation: \u001b[36;1m\u001b[1;3m7\n",
      "\u001b[0m\n",
      "Thought:\u001b[32;1m\u001b[1;3mAction: Calculatorasdf\n",
      "Action Input: 7\u001b[0m\n",
      "Observation: Calculatorasdf is not a valid tool, try another one.\n",
      "Thought:\u001b[32;1m\u001b[1;3mFinal Answer: 4\u001b[0m\n",
      "\n",
      "\u001b[1m> Finished chain.\u001b[0m\n"
     ]
    },
    {
     "data": {
      "text/plain": [
       "'4'"
      ]
     },
     "execution_count": 33,
     "metadata": {},
     "output_type": "execute_result"
    }
   ],
   "source": [
    "agent.run(\"whats is big?\")"
   ]
  }
 ],
 "metadata": {
  "kernelspec": {
   "display_name": ".venv",
   "language": "python",
   "name": "python3"
  },
  "language_info": {
   "codemirror_mode": {
    "name": "ipython",
    "version": 3
   },
   "file_extension": ".py",
   "mimetype": "text/x-python",
   "name": "python",
   "nbconvert_exporter": "python",
   "pygments_lexer": "ipython3",
   "version": "3.9.16"
  },
  "orig_nbformat": 4
 },
 "nbformat": 4,
 "nbformat_minor": 2
}
