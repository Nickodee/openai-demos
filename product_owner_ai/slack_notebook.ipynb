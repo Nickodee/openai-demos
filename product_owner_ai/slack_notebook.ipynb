{
 "cells": [
  {
   "cell_type": "code",
   "execution_count": 4,
   "metadata": {},
   "outputs": [
    {
     "ename": "ImportError",
     "evalue": "attempted relative import with no known parent package",
     "output_type": "error",
     "traceback": [
      "\u001b[0;31m---------------------------------------------------------------------------\u001b[0m",
      "\u001b[0;31mImportError\u001b[0m                               Traceback (most recent call last)",
      "Cell \u001b[0;32mIn[4], line 1\u001b[0m\n\u001b[0;32m----> 1\u001b[0m \u001b[39mfrom\u001b[39;00m \u001b[39m.\u001b[39;00m\u001b[39m.\u001b[39;00m\u001b[39mlangchain_tools\u001b[39;00m\u001b[39m.\u001b[39;00m\u001b[39mslack\u001b[39;00m\u001b[39m.\u001b[39;00m\u001b[39mslack_api\u001b[39;00m \u001b[39mimport\u001b[39;00m SlackApiWrapper\n\u001b[1;32m      4\u001b[0m slack \u001b[39m=\u001b[39m SlackApiWrapper()\n",
      "\u001b[0;31mImportError\u001b[0m: attempted relative import with no known parent package"
     ]
    }
   ],
   "source": [
    "\n",
    "from ..langchain_tools.slack.slack_api import SlackApiWrapper\n",
    "\n",
    "\n",
    "slack = SlackApiWrapper()\n"
   ]
  }
 ],
 "metadata": {
  "kernelspec": {
   "display_name": "langchain-slack-tool",
   "language": "python",
   "name": "python3"
  },
  "language_info": {
   "codemirror_mode": {
    "name": "ipython",
    "version": 3
   },
   "file_extension": ".py",
   "mimetype": "text/x-python",
   "name": "python",
   "nbconvert_exporter": "python",
   "pygments_lexer": "ipython3",
   "version": "3.9.16"
  },
  "orig_nbformat": 4
 },
 "nbformat": 4,
 "nbformat_minor": 2
}
