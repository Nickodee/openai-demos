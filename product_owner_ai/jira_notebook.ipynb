{
 "cells": [
  {
   "cell_type": "code",
   "execution_count": 1,
   "metadata": {},
   "outputs": [
    {
     "ename": "ModuleNotFoundError",
     "evalue": "No module named 'langchain_tools'",
     "output_type": "error",
     "traceback": [
      "\u001b[0;31m---------------------------------------------------------------------------\u001b[0m",
      "\u001b[0;31mModuleNotFoundError\u001b[0m                       Traceback (most recent call last)",
      "Cell \u001b[0;32mIn[1], line 10\u001b[0m\n\u001b[1;32m      7\u001b[0m \u001b[39mfrom\u001b[39;00m \u001b[39mdotenv\u001b[39;00m \u001b[39mimport\u001b[39;00m load_dotenv\n\u001b[1;32m      8\u001b[0m \u001b[39mimport\u001b[39;00m \u001b[39mos\u001b[39;00m\n\u001b[0;32m---> 10\u001b[0m \u001b[39mfrom\u001b[39;00m \u001b[39mlangchain_tools\u001b[39;00m\u001b[39m.\u001b[39;00m\u001b[39mslack\u001b[39;00m\u001b[39m.\u001b[39;00m\u001b[39mslack_api\u001b[39;00m \u001b[39mimport\u001b[39;00m SlackApiWrapper\n\u001b[1;32m     12\u001b[0m load_dotenv()\n\u001b[1;32m     14\u001b[0m os\u001b[39m.\u001b[39menviron[\u001b[39m\"\u001b[39m\u001b[39mOPENAI_API_KEY\u001b[39m\u001b[39m\"\u001b[39m] \u001b[39m=\u001b[39m os\u001b[39m.\u001b[39mgetenv(\u001b[39m'\u001b[39m\u001b[39mOPENAI_API_KEY\u001b[39m\u001b[39m'\u001b[39m)\n",
      "\u001b[0;31mModuleNotFoundError\u001b[0m: No module named 'langchain_tools'"
     ]
    }
   ],
   "source": [
    "from langchain.agents import AgentType\n",
    "from langchain.agents import initialize_agent\n",
    "from langchain.llms import OpenAI\n",
    "from langchain.utilities.jira import JiraAPIWrapper\n",
    "from langchain.agents.agent_toolkits import JiraToolkit\n",
    "\n",
    "from dotenv import load_dotenv\n",
    "import os\n",
    "\n",
    "from langchain_tools.slack.slack_api import SlackApiWrapper\n",
    "\n",
    "load_dotenv()\n",
    "\n",
    "os.environ[\"OPENAI_API_KEY\"] = os.getenv('OPENAI_API_KEY')\n",
    "os.environ[\"JIRA_USERNAME\"] = os.getenv('JIRA_USERNAME')\n",
    "os.environ[\"JIRA_API_TOKEN\"] = os.getenv('JIRA_API_TOKEN')\n",
    "os.environ[\"JIRA_INSTANCE_URL\"] = os.getenv('JIRA_INSTANCE_URL')\n",
    "\n",
    "llm = OpenAI(temperature=0)\n",
    "\n",
    "jira = JiraAPIWrapper()\n",
    "jira_toolkit = JiraToolkit.from_jira_api_wrapper(jira)\n",
    "\n",
    "slack = SlackApiWrapper()\n",
    "\n",
    "tools = jira_toolkit.get_tools()\n",
    "\n",
    "agent = initialize_agent(\n",
    "    tools,\n",
    "    llm,\n",
    "    agent=AgentType.ZERO_SHOT_REACT_DESCRIPTION,\n",
    "    verbose=True)"
   ]
  },
  {
   "cell_type": "code",
   "execution_count": null,
   "metadata": {},
   "outputs": [],
   "source": [
    "agent.run(\"make a new issue for project key OP to remind me to make more fried rice\")"
   ]
  },
  {
   "cell_type": "code",
   "execution_count": null,
   "metadata": {},
   "outputs": [],
   "source": [
    "import requests\n",
    "from requests.auth import HTTPBasicAuth\n",
    "import json\n",
    "\n",
    "base_url = os.getenv('JIRA_INSTANCE_URL')\n",
    "create_url = f\"{base_url}/rest/api/2/issue\"\n",
    "\n",
    "auth = HTTPBasicAuth(os.getenv('JIRA_USERNAME'), os.getenv('JIRA_API_TOKEN'))\n",
    "\n",
    "metadata_url = f\"{base_url}/rest/api/2/issue/createmeta\"\n",
    "\n",
    "headers = {\n",
    "  \"Accept\": \"application/json\"\n",
    "}\n",
    "\n",
    "response = requests.request(\n",
    "   \"GET\",\n",
    "   metadata_url,\n",
    "   headers=headers,\n",
    "   auth=auth\n",
    ")\n",
    "\n",
    "print(json.dumps(json.loads(response.text), sort_keys=True, indent=4, separators=(\",\", \": \")))\n"
   ]
  },
  {
   "cell_type": "code",
   "execution_count": null,
   "metadata": {},
   "outputs": [],
   "source": [
    "\n",
    "payload = json.dumps( {\n",
    "  \"fields\": {\n",
    "    \"issuetype\": {\n",
    "      \"name\": \"Task\"\n",
    "    },\n",
    "    \"priority\": {\n",
    "      \"name\": \"Low\"\n",
    "    },\n",
    "    \"project\": {\n",
    "      \"key\": \"OP\"\n",
    "    },\n",
    "    \"summary\": \"Main order flow broken\",\n",
    "    \"description\": \"What do you think\"\n",
    "  }\n",
    "} )\n",
    "\n",
    "headers = {\n",
    "  \"Accept\": \"application/json\",\n",
    "  \"Content-Type\": \"application/json\"\n",
    "}\n",
    "\n",
    "response = requests.request(\n",
    "   \"POST\",\n",
    "   create_url,\n",
    "   data=payload,\n",
    "   headers=headers,\n",
    "   auth=auth\n",
    ")\n",
    "\n",
    "print(response.status_code)\n",
    "print(json.dumps(json.loads(response.text), sort_keys=True, indent=4, separators=(\",\", \": \")))"
   ]
  }
 ],
 "metadata": {
  "kernelspec": {
   "display_name": "langchain-slack-tool",
   "language": "python",
   "name": "python3"
  },
  "language_info": {
   "codemirror_mode": {
    "name": "ipython",
    "version": 3
   },
   "file_extension": ".py",
   "mimetype": "text/x-python",
   "name": "python",
   "nbconvert_exporter": "python",
   "pygments_lexer": "ipython3",
   "version": "3.9.16"
  },
  "orig_nbformat": 4
 },
 "nbformat": 4,
 "nbformat_minor": 2
}
