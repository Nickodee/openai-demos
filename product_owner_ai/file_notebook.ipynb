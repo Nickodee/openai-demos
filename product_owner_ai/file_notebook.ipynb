{
 "cells": [
  {
   "cell_type": "code",
   "execution_count": null,
   "metadata": {},
   "outputs": [],
   "source": [
    "from langchain.agents import AgentType, initialize_agent\n",
    "from langchain.llms import OpenAI\n",
    "from langchain.agents.agent_toolkits.file_management import FileManagementToolkit\n",
    "from langchain.prompts import PromptTemplate\n",
    "from langchain.chains import LLMChain\n",
    "\n",
    "from dotenv import load_dotenv\n",
    "\n",
    "import os\n",
    "\n",
    "load_dotenv()\n",
    "\n",
    "os.environ[\"OPENAI_API_KEY\"] = os.getenv('OPENAI_API_KEY')\n",
    "\n",
    "llm = OpenAI(temperature=0, max_tokens=512)\n",
    "\n",
    "file_managmenet_toolkit = FileManagementToolkit(\n",
    "    root_dir=\"./code/\",\n",
    "    selected_tools=[\"file_search\", \"read_file\", \"write_file\"]\n",
    ")\n",
    "\n",
    "tools = file_managmenet_toolkit.get_tools()\n",
    "\n",
    "agent = initialize_agent(\n",
    "    tools,\n",
    "    llm,\n",
    "    agent=AgentType.STRUCTURED_CHAT_ZERO_SHOT_REACT_DESCRIPTION,\n",
    "    verbose=True)"
   ]
  },
  {
   "cell_type": "code",
   "execution_count": null,
   "metadata": {},
   "outputs": [],
   "source": [
    "template = \"\"\"\n",
    "You are an expert react developer.\n",
    "Create a react {type} page that has the folloing required files: {fields}\n",
    "\"\"\"\n",
    "prompt_template = PromptTemplate(\n",
    "  template=template,\n",
    "  input_variables=[\"type\", \"fields\"]\n",
    ")\n",
    "\n",
    "create_page = LLMChain(llm=llm, prompt=prompt_template, output_key=\"synopsis\")\n",
    "content = create_page.run({\"type\": \"login\", \"fields\": \"first name, last name, email\"})\n",
    "print(content)"
   ]
  },
  {
   "cell_type": "code",
   "execution_count": null,
   "metadata": {},
   "outputs": [],
   "source": [
    "template = \"\"\"\n",
    "find the {type} file and write the following content to it:\n",
    "{content}\n",
    "\"\"\"\n",
    "prompt_template = PromptTemplate(\n",
    "  template=template,\n",
    "  input_variables=[\"type\", \"content\"]\n",
    ")\n",
    "\n",
    "fmt_prompt = prompt_template.format(type='login', content=content)\n",
    "print(fmt_prompt)"
   ]
  },
  {
   "cell_type": "code",
   "execution_count": null,
   "metadata": {},
   "outputs": [],
   "source": [
    "agent.run(fmt_prompt)"
   ]
  }
 ],
 "metadata": {
  "kernelspec": {
   "display_name": ".venv",
   "language": "python",
   "name": "python3"
  },
  "language_info": {
   "codemirror_mode": {
    "name": "ipython",
    "version": 3
   },
   "file_extension": ".py",
   "mimetype": "text/x-python",
   "name": "python",
   "nbconvert_exporter": "python",
   "pygments_lexer": "ipython3",
   "version": "3.9.16"
  },
  "orig_nbformat": 4
 },
 "nbformat": 4,
 "nbformat_minor": 2
}
