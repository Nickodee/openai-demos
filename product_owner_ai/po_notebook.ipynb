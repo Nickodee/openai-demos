{
 "cells": [
  {
   "cell_type": "code",
   "execution_count": 1,
   "metadata": {},
   "outputs": [],
   "source": [
    "from langchain.agents import AgentType, initialize_agent\n",
    "from langchain.llms import OpenAI\n",
    "from langchain.agents.agent_toolkits.file_management import FileManagementToolkit\n",
    "\n",
    "from dotenv import load_dotenv\n",
    "\n",
    "import os\n",
    "\n",
    "import sys\n",
    "sys.path.append('..')\n",
    "sys.path.append('../langchain_learnings/tools/slack/')\n",
    "sys.path.append('../langchain_learnings/tools/jira/')\n",
    "\n",
    "from langchain_learnings.tools.slack.slack_toolkit import SlackToolKit\n",
    "from langchain_learnings.tools.slack.slack_api import SlackApiWrapper\n",
    "from langchain_learnings.tools.jira.jira_api import JiraApiWrapper\n",
    "from langchain_learnings.tools.jira.jira_toolkit import JiraToolkit\n",
    "\n",
    "load_dotenv()\n",
    "\n",
    "os.environ[\"OPENAI_API_KEY\"] = os.getenv('OPENAI_API_KEY')\n",
    "os.environ[\"JIRA_USERNAME\"] = os.getenv('JIRA_USERNAME')\n",
    "os.environ[\"JIRA_API_TOKEN\"] = os.getenv('JIRA_API_TOKEN')\n",
    "os.environ[\"JIRA_INSTANCE_URL\"] = os.getenv('JIRA_INSTANCE_URL')\n",
    "os.environ[\"SLACK_BOT_TOKEN\"] = os.getenv('SLACK_BOT_TOKEN')\n",
    "\n",
    "llm = OpenAI(temperature=0)\n",
    "\n",
    "jira =  JiraApiWrapper()\n",
    "jira_toolkit = JiraToolkit.from_jira_api_wrapper(jira)\n",
    "\n",
    "slack = SlackApiWrapper()\n",
    "slack_toolkit = SlackToolKit.from_slack_api_wrapper(slack)\n",
    "\n",
    "tools = []\n",
    "[tools.append(tool) for tool in jira_toolkit.get_tools()]\n",
    "[tools.append(tool) for tool in slack_toolkit.get_tools()]\n",
    "\n",
    "agent = initialize_agent(\n",
    "    tools,\n",
    "    llm,\n",
    "    agent=AgentType.ZERO_SHOT_REACT_DESCRIPTION,\n",
    "    verbose=True)"
   ]
  },
  {
   "cell_type": "code",
   "execution_count": 2,
   "metadata": {},
   "outputs": [
    {
     "name": "stdout",
     "output_type": "stream",
     "text": [
      "\n",
      "\n",
      "\u001b[1m> Entering new AgentExecutor chain...\u001b[0m\n"
     ]
    },
    {
     "name": "stderr",
     "output_type": "stream",
     "text": [
      "Creating issue \"Learn more Python\"\n"
     ]
    },
    {
     "name": "stdout",
     "output_type": "stream",
     "text": [
      "\u001b[32;1m\u001b[1;3m I need to create a new issue in Jira and post the jira id to #general in Slack\n",
      "Action: Create Issue\n",
      "Action Input: {\"summary\": \"Learn more Python\", \"description\": \"I want to learn more Python\", \"project\": { \"key\": \"OP\" }, \"issuetype\": {\"name\": \"Task\"}, \"priority\": {\"name\": \"Low\"}}\u001b[0m\n",
      "Observation: \u001b[38;5;200m\u001b[1;3m{'id': '10007', 'key': 'OP-8', 'self': 'https://thinkovator.atlassian.net/rest/api/2/issue/10007'}\u001b[0m\n",
      "Thought:\u001b[32;1m\u001b[1;3m I now need to post the jira id to #general in Slack\n",
      "Action: Write a chat message to the channel\n",
      "Action Input: {\"channel\": \"#general\", \"message\": \"The Jira ID for the new issue is OP-8\"}\u001b[0m\n",
      "Observation: \u001b[33;1m\u001b[1;3mSuccessfully wrote chat message\u001b[0m\n",
      "Thought:\u001b[32;1m\u001b[1;3m I now know the final answer\n",
      "Final Answer: The Jira ID for the new issue is OP-8\u001b[0m\n",
      "\n",
      "\u001b[1m> Finished chain.\u001b[0m\n"
     ]
    },
    {
     "data": {
      "text/plain": [
       "'The Jira ID for the new issue is OP-8'"
      ]
     },
     "execution_count": 2,
     "metadata": {},
     "output_type": "execute_result"
    }
   ],
   "source": [
    "agent.run(\"make a new issue for project key OP to learn more python, post the jira id to #general in slack\")"
   ]
  },
  {
   "cell_type": "code",
   "execution_count": null,
   "metadata": {},
   "outputs": [],
   "source": [
    "import requests\n",
    "from requests.auth import HTTPBasicAuth\n",
    "import json\n",
    "\n",
    "base_url = os.getenv('JIRA_INSTANCE_URL')\n",
    "create_url = f\"{base_url}/rest/api/2/issue\"\n",
    "\n",
    "auth = HTTPBasicAuth(os.getenv('JIRA_USERNAME'), os.getenv('JIRA_API_TOKEN'))\n",
    "\n",
    "metadata_url = f\"{base_url}/rest/api/2/issue/createmeta\"\n",
    "\n",
    "headers = {\n",
    "  \"Accept\": \"application/json\"\n",
    "}\n",
    "\n",
    "response = requests.request(\n",
    "   \"GET\",\n",
    "   metadata_url,\n",
    "   headers=headers,\n",
    "   auth=auth\n",
    ")\n",
    "\n",
    "print(json.dumps(json.loads(response.text), sort_keys=True, indent=4, separators=(\",\", \": \")))\n"
   ]
  },
  {
   "cell_type": "code",
   "execution_count": null,
   "metadata": {},
   "outputs": [],
   "source": [
    "\n",
    "payload = json.dumps( {\n",
    "  \"fields\": {\n",
    "    \"issuetype\": {\n",
    "      \"name\": \"Task\"\n",
    "    },\n",
    "    \"priority\": {\n",
    "      \"name\": \"Low\"\n",
    "    },\n",
    "    \"project\": {\n",
    "      \"key\": \"OP\"\n",
    "    },\n",
    "    \"summary\": \"Main order flow broken\",\n",
    "    \"description\": \"What do you think\"\n",
    "  }\n",
    "} )\n",
    "\n",
    "headers = {\n",
    "  \"Accept\": \"application/json\",\n",
    "  \"Content-Type\": \"application/json\"\n",
    "}\n",
    "\n",
    "response = requests.request(\n",
    "   \"POST\",\n",
    "   create_url,\n",
    "   data=payload,\n",
    "   headers=headers,\n",
    "   auth=auth\n",
    ")\n",
    "\n",
    "print(response.status_code)\n",
    "print(json.dumps(json.loads(response.text), sort_keys=True, indent=4, separators=(\",\", \": \")))"
   ]
  }
 ],
 "metadata": {
  "kernelspec": {
   "display_name": "langchain-slack-tool",
   "language": "python",
   "name": "python3"
  },
  "language_info": {
   "codemirror_mode": {
    "name": "ipython",
    "version": 3
   },
   "file_extension": ".py",
   "mimetype": "text/x-python",
   "name": "python",
   "nbconvert_exporter": "python",
   "pygments_lexer": "ipython3",
   "version": "3.9.16"
  },
  "orig_nbformat": 4
 },
 "nbformat": 4,
 "nbformat_minor": 2
}
