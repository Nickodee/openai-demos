{
 "cells": [
  {
   "cell_type": "code",
   "execution_count": null,
   "metadata": {},
   "outputs": [],
   "source": [
    "from langchain.agents import AgentType\n",
    "from langchain.agents import initialize_agent\n",
    "from send_grid_toolkit import SendGridToolKit\n",
    "from langchain.llms import OpenAI\n",
    "from send_grid_tool import SendGridApiWrapper\n",
    "\n",
    "from dotenv import load_dotenv\n",
    "import os\n",
    "\n",
    "load_dotenv()\n",
    "\n",
    "os.environ[\"OPENAI_API_KEY\"] = os.getenv('OPENAI_API_KEY')\n",
    "os.environ[\"SEND_GRID_API_KEY\"] = os.getenv('SEND_GRID_API_KEY')\n",
    "\n",
    "llm = OpenAI(temperature=0)\n",
    "send_grid = SendGridApiWrapper()\n",
    "toolkit = SendGridToolKit.from_send_grid_api_wrapper(send_grid)\n",
    "tools = toolkit.get_tools()\n",
    "\n",
    "agent = initialize_agent(\n",
    "    tools,\n",
    "    llm,\n",
    "    agent=AgentType.ZERO_SHOT_REACT_DESCRIPTION,\n",
    "    verbose=True)"
   ]
  },
  {
   "cell_type": "code",
   "execution_count": 3,
   "metadata": {},
   "outputs": [
    {
     "name": "stdout",
     "output_type": "stream",
     "text": [
      "\n",
      "\n",
      "\u001b[1m> Entering new AgentExecutor chain...\u001b[0m\n",
      "\u001b[32;1m\u001b[1;3m I need to create a subject and body for the email\n",
      "Action: Send an email\n",
      "Action Input: {\"subject\": \"Request for Meeting\", \"body\": \"Dear John, I would like to request a meeting to discuss a project I am working on. Please let me know when you are available. Best, Derek\", \"from_email\": \"derek@email.com\", \"to_emails\": \"john@email.com\"}\u001b[0m{'from': {'email': 'derek@email.com'}, 'subject': 'Request for Meeting', 'personalizations': [{'to': [{'email': 'john@email.com'}]}], 'content': [{'type': 'text/html', 'value': 'Dear John, I would like to request a meeting to discuss a project I am working on. Please let me know when you are available. Best, Derek'}]}\n",
      "\n",
      "Observation: \u001b[36;1m\u001b[1;3mSuccessfully sent email\u001b[0m\n",
      "Thought:\u001b[32;1m\u001b[1;3m I have sent the email\n",
      "Final Answer: The email has been sent to john@email.com from derek@email.com with the subject \"Request for Meeting\" and body \"Dear John, I would like to request a meeting to discuss a project I am working on. Please let me know when you are available. Best, Derek\".\u001b[0m\n",
      "\n",
      "\u001b[1m> Finished chain.\u001b[0m\n"
     ]
    },
    {
     "data": {
      "text/plain": [
       "'The email has been sent to john@email.com from derek@email.com with the subject \"Request for Meeting\" and body \"Dear John, I would like to request a meeting to discuss a project I am working on. Please let me know when you are available. Best, Derek\".'"
      ]
     },
     "execution_count": 3,
     "metadata": {},
     "output_type": "execute_result"
    }
   ],
   "source": [
    "agent.run(\"Create a subject and body for an email to send to my boss. Then send the email to john@email.com from derek@email.com\")"
   ]
  }
 ],
 "metadata": {
  "kernelspec": {
   "display_name": "langchain-slack-tool",
   "language": "python",
   "name": "python3"
  },
  "language_info": {
   "codemirror_mode": {
    "name": "ipython",
    "version": 3
   },
   "file_extension": ".py",
   "mimetype": "text/x-python",
   "name": "python",
   "nbconvert_exporter": "python",
   "pygments_lexer": "ipython3",
   "version": "3.9.16"
  },
  "orig_nbformat": 4
 },
 "nbformat": 4,
 "nbformat_minor": 2
}
