{
 "cells": [
  {
   "cell_type": "code",
   "execution_count": null,
   "metadata": {},
   "outputs": [],
   "source": [
    "from langchain.agents import AgentType\n",
    "from langchain.agents import initialize_agent\n",
    "from twillio_toolkit import TwillioToolKit\n",
    "from langchain.llms import OpenAI\n",
    "from twillio_tool import TwillioApiWrapper\n",
    "\n",
    "from dotenv import load_dotenv\n",
    "import os\n",
    "\n",
    "load_dotenv()\n",
    "\n",
    "os.environ[\"OPENAI_API_KEY\"] = os.getenv('OPENAI_API_KEY')\n",
    "os.environ[\"TWILLIO_ACCOUNT_SID\"] = os.getenv('TWILLIO_ACCOUNT_SID')\n",
    "os.environ[\"TWILLIO_AUTH_TOKEN\"] = os.getenv('TWILLIO_AUTH_TOKEN')\n",
    "os.environ[\"TWILLIO_FROM_NUMBER\"] = os.getenv('TWILLIO_FROM_NUMBER')\n",
    "\n",
    "llm = OpenAI(temperature=0)\n",
    "slack = TwillioApiWrapper()\n",
    "toolkit = TwillioToolKit.from_twillio_api_wrapper(slack)\n",
    "tools = toolkit.get_tools()\n",
    "\n",
    "agent = initialize_agent(\n",
    "    tools,\n",
    "    llm,\n",
    "    agent=AgentType.ZERO_SHOT_REACT_DESCRIPTION,\n",
    "    verbose=True)"
   ]
  },
  {
   "cell_type": "code",
   "execution_count": null,
   "metadata": {},
   "outputs": [],
   "source": [
    "agent.run(\"From my contact list, send my wife the following text: I love you.\")"
   ]
  }
 ],
 "metadata": {
  "kernelspec": {
   "display_name": "langchain-slack-tool",
   "language": "python",
   "name": "python3"
  },
  "language_info": {
   "codemirror_mode": {
    "name": "ipython",
    "version": 3
   },
   "file_extension": ".py",
   "mimetype": "text/x-python",
   "name": "python",
   "nbconvert_exporter": "python",
   "pygments_lexer": "ipython3",
   "version": "3.9.16"
  },
  "orig_nbformat": 4
 },
 "nbformat": 4,
 "nbformat_minor": 2
}
