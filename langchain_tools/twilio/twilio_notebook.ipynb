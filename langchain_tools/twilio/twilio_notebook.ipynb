{
 "cells": [
  {
   "cell_type": "code",
   "execution_count": 1,
   "metadata": {},
   "outputs": [],
   "source": [
    "from langchain.agents import AgentType\n",
    "from langchain.agents import initialize_agent\n",
    "from twilio_toolkit import TwilioToolKit\n",
    "from langchain.llms import OpenAI\n",
    "from twilio_tool import TwilioApiWrapper\n",
    "\n",
    "from dotenv import load_dotenv\n",
    "import os\n",
    "\n",
    "load_dotenv()\n",
    "\n",
    "os.environ[\"OPENAI_API_KEY\"] = os.getenv('OPENAI_API_KEY')\n",
    "os.environ[\"TWILIO_ACCOUNT_SID\"] = os.getenv('TWILIO_ACCOUNT_SID')\n",
    "os.environ[\"TWILIO_AUTH_TOKEN\"] = os.getenv('TWILIO_AUTH_TOKEN')\n",
    "os.environ[\"TWILIO_FROM_NUMBER\"] = os.getenv('TWILIO_FROM_NUMBER')\n",
    "\n",
    "llm = OpenAI(temperature=0)\n",
    "slack = TwilioApiWrapper()\n",
    "toolkit = TwilioToolKit.from_twilio_api_wrapper(slack)\n",
    "tools = toolkit.get_tools()\n",
    "\n",
    "agent = initialize_agent(\n",
    "    tools,\n",
    "    llm,\n",
    "    agent=AgentType.ZERO_SHOT_REACT_DESCRIPTION,\n",
    "    verbose=True)"
   ]
  },
  {
   "cell_type": "code",
   "execution_count": 2,
   "metadata": {},
   "outputs": [
    {
     "name": "stdout",
     "output_type": "stream",
     "text": [
      "\n",
      "\n",
      "\u001b[1m> Entering new AgentExecutor chain...\u001b[0m\n",
      "\u001b[32;1m\u001b[1;3m I need to find my wife's contact information and then send her a text message.\n",
      "Action: Read available contacts\n",
      "Action Input: None\u001b[0m\n",
      "Observation: \u001b[33;1m\u001b[1;3m[{'name': 'John Doe', 'phone': '5153051423'}, {'name': 'wife', 'phone': '7203051424'}, {'name': 'John Smith', 'phone': '5153051425'}, {'name': 'Jane Doe', 'phone': '5153051426'}]\u001b[0m\n",
      "Thought:\u001b[32;1m\u001b[1;3m I now have the contact information for my wife.\n",
      "Action: Send text message\n",
      "Action Input: {\"number\": \"7203051424\", \"message\": \"I love you.\"}\u001b[0m\n",
      "Observation: \u001b[36;1m\u001b[1;3mSuccessfully sent text message\u001b[0m\n",
      "Thought:\u001b[32;1m\u001b[1;3m I have now sent the text message to my wife.\n",
      "Final Answer: The text message \"I love you.\" has been successfully sent to my wife.\u001b[0m\n",
      "\n",
      "\u001b[1m> Finished chain.\u001b[0m\n"
     ]
    },
    {
     "data": {
      "text/plain": [
       "'The text message \"I love you.\" has been successfully sent to my wife.'"
      ]
     },
     "execution_count": 2,
     "metadata": {},
     "output_type": "execute_result"
    }
   ],
   "source": [
    "agent.run(\"From my contact list, send my wife the following text: I love you.\")"
   ]
  }
 ],
 "metadata": {
  "kernelspec": {
   "display_name": "langchain-slack-tool",
   "language": "python",
   "name": "python3"
  },
  "language_info": {
   "codemirror_mode": {
    "name": "ipython",
    "version": 3
   },
   "file_extension": ".py",
   "mimetype": "text/x-python",
   "name": "python",
   "nbconvert_exporter": "python",
   "pygments_lexer": "ipython3",
   "version": "3.9.16"
  },
  "orig_nbformat": 4
 },
 "nbformat": 4,
 "nbformat_minor": 2
}
