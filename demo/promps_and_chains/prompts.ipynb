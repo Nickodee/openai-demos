{
 "cells": [
  {
   "cell_type": "code",
   "execution_count": 6,
   "metadata": {},
   "outputs": [
    {
     "data": {
      "text/plain": [
       "'Tell me a funny joke about a dog'"
      ]
     },
     "execution_count": 6,
     "metadata": {},
     "output_type": "execute_result"
    }
   ],
   "source": [
    "from langchain import PromptTemplate\n",
    "\n",
    "template = \"\"\"Tell me a {adjective} joke about a {topic}\"\"\"\n",
    "\n",
    "prompt = PromptTemplate(\n",
    "    template=template,\n",
    "    input_variables=[\"adjective\", \"topic\"],\n",
    ")\n",
    "prompt.format(adjective=\"funny\", topic=\"dog\")"
   ]
  },
  {
   "cell_type": "code",
   "execution_count": 10,
   "metadata": {},
   "outputs": [
    {
     "name": "stdout",
     "output_type": "stream",
     "text": [
      "Give the sentiment of all the sentences.\n",
      "\n",
      "sentence: Ice cream is good! sentiment:positive.\n",
      "\n",
      "sentence: That movie was horrible. sentiment:negative.\n",
      "\n",
      "sentence: Look at that bird! sentiment:neutral.\n",
      "\n",
      "sentence: That was great! \n",
      " sentiment:\n"
     ]
    }
   ],
   "source": [
    "from langchain import PromptTemplate, FewShotPromptTemplate\n",
    "\n",
    "examples = [\n",
    "    {\"sentence\": \"Ice cream is good!\", \"sentiment\": \"positive\"},\n",
    "    {\"sentence\": \"That movie was horrible.\", \"sentiment\": \"negative\"},\n",
    "    {\"sentence\": \"Look at that bird!\", \"sentiment\": \"neutral\"},\n",
    "]\n",
    "\n",
    "template = \"\"\"sentence: {sentence} sentiment:{sentiment}.\"\"\"\n",
    "\n",
    "example_prompt = PromptTemplate(template=template, input_variables=[\"sentence\", \"sentiment\"])\n",
    "\n",
    "few_shot_template = FewShotPromptTemplate(\n",
    "    examples=examples,\n",
    "    example_prompt=example_prompt,\n",
    "    prefix=\"Give the sentiment of all the sentences.\",\n",
    "    suffix=\"sentence: {input} \\n sentiment:\",\n",
    "    input_variables=[\"input\"],\n",
    "    example_separator=\"\\n\\n\",\n",
    ")\n",
    "\n",
    "print(few_shot_template.format(input=\"That was great!\"))"
   ]
  }
 ],
 "metadata": {
  "kernelspec": {
   "display_name": ".venv",
   "language": "python",
   "name": "python3"
  },
  "language_info": {
   "codemirror_mode": {
    "name": "ipython",
    "version": 3
   },
   "file_extension": ".py",
   "mimetype": "text/x-python",
   "name": "python",
   "nbconvert_exporter": "python",
   "pygments_lexer": "ipython3",
   "version": "3.9.16"
  },
  "orig_nbformat": 4
 },
 "nbformat": 4,
 "nbformat_minor": 2
}
