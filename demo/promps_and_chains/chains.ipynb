{
 "cells": [
  {
   "cell_type": "code",
   "execution_count": 2,
   "metadata": {},
   "outputs": [],
   "source": [
    "from langchain.llms import OpenAI\n",
    "from langchain.chains import LLMChain\n",
    "from langchain.prompts import PromptTemplate\n",
    "\n",
    "from dotenv import load_dotenv\n",
    "import os\n",
    "\n",
    "load_dotenv()\n",
    "\n",
    "os.environ[\"OPENAI_API_KEY\"] = os.getenv('OPENAI_API_KEY')\n",
    "\n",
    "llm = OpenAI(temperature=.7)"
   ]
  },
  {
   "cell_type": "code",
   "execution_count": 4,
   "metadata": {},
   "outputs": [],
   "source": [
    "template = \"\"\"\n",
    "You are a content creator. Given a topic, it is your job to create a title.\n",
    "\n",
    "Topic: {topic}\n",
    "Creator: This is a title for the above topic\"\n",
    "\"\"\"\n",
    "\n",
    "prompt_template = PromptTemplate(template=template, input_variables=['topic'])\n",
    "title_chain = LLMChain(llm=llm, prompt=prompt_template)"
   ]
  },
  {
   "cell_type": "code",
   "execution_count": 5,
   "metadata": {},
   "outputs": [],
   "source": [
    "template = \"\"\" \n",
    "You are a content creator. Given a title of a topic, it is your job to write three sentences about it.\n",
    "\n",
    "Title: {title}\n",
    "Creator: This is a sentence about the above title.\n",
    "\"\"\"\n",
    "prompt_template = PromptTemplate(template=template, input_variables=['title'])\n",
    "sentence_chain = LLMChain(llm=llm, prompt=prompt_template)"
   ]
  },
  {
   "cell_type": "code",
   "execution_count": 6,
   "metadata": {},
   "outputs": [],
   "source": [
    "from langchain.chains import SimpleSequentialChain\n",
    "\n",
    "overall_chain = SimpleSequentialChain(chains=[title_chain, sentence_chain], verbose=True)"
   ]
  },
  {
   "cell_type": "code",
   "execution_count": 7,
   "metadata": {},
   "outputs": [
    {
     "name": "stdout",
     "output_type": "stream",
     "text": [
      "\n",
      "\n",
      "\u001b[1m> Entering new SimpleSequentialChain chain...\u001b[0m\n",
      "\u001b[36;1m\u001b[1;3m\n",
      "\"Man's Best Friend: Exploring the Wonderful World of Dogs\"\u001b[0m\n",
      "\u001b[33;1m\u001b[1;3m\n",
      "Dogs have been a loyal companion to mankind for centuries, providing comfort, protection, and unconditional love. They are often referred to as \"man's best friend,\" and for good reason. Exploring the wonderful world of dogs can be an incredibly rewarding experience, as it allows us to appreciate the unique bond between humans and their canine companions.\u001b[0m\n",
      "\n",
      "\u001b[1m> Finished chain.\u001b[0m\n"
     ]
    },
    {
     "data": {
      "text/plain": [
       "'\\nDogs have been a loyal companion to mankind for centuries, providing comfort, protection, and unconditional love. They are often referred to as \"man\\'s best friend,\" and for good reason. Exploring the wonderful world of dogs can be an incredibly rewarding experience, as it allows us to appreciate the unique bond between humans and their canine companions.'"
      ]
     },
     "execution_count": 7,
     "metadata": {},
     "output_type": "execute_result"
    }
   ],
   "source": [
    "overall_chain.run(\"Dogs\")"
   ]
  }
 ],
 "metadata": {
  "kernelspec": {
   "display_name": ".venv",
   "language": "python",
   "name": "python3"
  },
  "language_info": {
   "codemirror_mode": {
    "name": "ipython",
    "version": 3
   },
   "file_extension": ".py",
   "mimetype": "text/x-python",
   "name": "python",
   "nbconvert_exporter": "python",
   "pygments_lexer": "ipython3",
   "version": "3.9.16"
  },
  "orig_nbformat": 4
 },
 "nbformat": 4,
 "nbformat_minor": 2
}
