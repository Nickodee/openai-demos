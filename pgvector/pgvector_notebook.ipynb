{
 "cells": [
  {
   "cell_type": "code",
   "execution_count": null,
   "metadata": {},
   "outputs": [],
   "source": [
    "from dotenv import load_dotenv\n",
    "from langchain.embeddings import OpenAIEmbeddings\n",
    "from psycopg.conninfo import make_conninfo\n",
    "\n",
    "import os\n",
    "import psycopg\n",
    "\n",
    "load_dotenv()\n",
    "\n",
    "os.environ[\"OPENAI_API_KEY\"] = os.getenv('OPENAI_API_KEY')\n",
    "\n",
    "embeddings = OpenAIEmbeddings()\n",
    "\n",
    "connectionString = make_conninfo(\n",
    "  host=os.getenv('DB_HOST'),\n",
    "  port=os.getenv('DB_PORT'),\n",
    "  dbname=os.getenv('DB_DATABASE'),\n",
    "  user=os.getenv('DB_USER'),\n",
    "  password=os.getenv('DB_PASSWORD')\n",
    ")"
   ]
  },
  {
   "cell_type": "code",
   "execution_count": 9,
   "metadata": {},
   "outputs": [],
   "source": [
    "\n",
    "# Load sample documents into the database\n",
    "\n",
    "directory = './data'\n",
    "\n",
    "# Loop over all files in the directory, create embeddings, save them to the database\n",
    "for file_name in os.listdir(directory):\n",
    "  file_path = os.path.join(directory, file_name)\n",
    "  with open(file_path, 'r') as file:\n",
    "      content = file.read()\n",
    "      embedding_results = embeddings.embed_query(content)\n",
    "      with psycopg.connect(connectionString) as conn:\n",
    "        insert_query = \"INSERT INTO documents (file_name, content, embedding) VALUES (%s, %s, %s)\"\n",
    "        insert_data = (file_name, content, embedding_results)\n",
    "        conn.execute(insert_query, insert_data)\n",
    "        conn.commit()\n"
   ]
  },
  {
   "cell_type": "code",
   "execution_count": 10,
   "metadata": {},
   "outputs": [],
   "source": [
    "search_text = \"How has music changed over the years?\""
   ]
  },
  {
   "cell_type": "code",
   "execution_count": 11,
   "metadata": {},
   "outputs": [],
   "source": [
    "# embed search text\n",
    "embedding_results = embeddings.embed_query(search_text)"
   ]
  },
  {
   "cell_type": "code",
   "execution_count": 15,
   "metadata": {},
   "outputs": [
    {
     "name": "stdout",
     "output_type": "stream",
     "text": [
      "(('7', 'Music has been a part of human culture for thousands of years, with various forms of music emerging from different regions and cultures. Music can evoke emotions, tell stories, and bring people together. From classical music to hip-hop to country, there is a genre of music to suit every taste.', 'music_and_culture.txt', '0.8553450551592263'),)\n",
      "(('9', 'Musical instruments are an essential part of creating music. They range from simple instruments like the recorder or harmonica to complex instruments like the piano or guitar. Learning to play a musical instrument can provide numerous benefits, including improving cognitive function, reducing stress, and boosting self-esteem.', 'music_and_instruments.txt', '0.8048350573666982'),)\n"
     ]
    }
   ],
   "source": [
    "# find documents based on cosin similarity to the embedded search text\n",
    "with psycopg.connect(connectionString) as conn: \n",
    "  select_query = \"SELECT match_documents(%s,%s,%s)\"\n",
    "  query_data = (f'{embedding_results}', 0.8, 10)\n",
    "  results = conn.execute(select_query, query_data).fetchall()\n",
    "  for result in results:\n",
    "    print(result)  "
   ]
  }
 ],
 "metadata": {
  "kernelspec": {
   "display_name": ".venv",
   "language": "python",
   "name": "python3"
  },
  "language_info": {
   "codemirror_mode": {
    "name": "ipython",
    "version": 3
   },
   "file_extension": ".py",
   "mimetype": "text/x-python",
   "name": "python",
   "nbconvert_exporter": "python",
   "pygments_lexer": "ipython3",
   "version": "3.9.16"
  },
  "orig_nbformat": 4
 },
 "nbformat": 4,
 "nbformat_minor": 2
}
