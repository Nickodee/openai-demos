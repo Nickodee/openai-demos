{
 "cells": [
  {
   "cell_type": "code",
   "execution_count": 1,
   "metadata": {},
   "outputs": [],
   "source": [
    "from langchain.agents import AgentType\n",
    "from langchain.agents import initialize_agent\n",
    "from langchain.llms import OpenAI\n",
    "from jira_api import JiraApiWrapper\n",
    "from jira_toolkit import JiraToolkit\n",
    "\n",
    "from dotenv import load_dotenv\n",
    "import os\n",
    "\n",
    "load_dotenv()\n",
    "\n",
    "os.environ[\"OPENAI_API_KEY\"] = os.getenv('OPENAI_API_KEY')\n",
    "os.environ[\"JIRA_USERNAME\"] = os.getenv('JIRA_USERNAME')\n",
    "os.environ[\"JIRA_API_TOKEN\"] = os.getenv('JIRA_API_TOKEN')\n",
    "os.environ[\"JIRA_INSTANCE_URL\"] = os.getenv('JIRA_INSTANCE_URL')\n",
    "\n",
    "llm = OpenAI(temperature=0)\n",
    "\n",
    "jira = JiraApiWrapper()\n",
    "jira_toolkit = JiraToolkit.from_jira_api_wrapper(jira)\n",
    "\n",
    "tools = jira_toolkit.get_tools()\n",
    "\n",
    "agent = initialize_agent(\n",
    "    tools,\n",
    "    llm,\n",
    "    agent=AgentType.ZERO_SHOT_REACT_DESCRIPTION,\n",
    "    verbose=True)"
   ]
  },
  {
   "cell_type": "code",
   "execution_count": 2,
   "metadata": {},
   "outputs": [
    {
     "name": "stdout",
     "output_type": "stream",
     "text": [
      "\n",
      "\n",
      "\u001b[1m> Entering new AgentExecutor chain...\u001b[0m\n"
     ]
    },
    {
     "name": "stderr",
     "output_type": "stream",
     "text": [
      "Creating issue \"Make more fried rice\"\n"
     ]
    },
    {
     "name": "stdout",
     "output_type": "stream",
     "text": [
      "\u001b[32;1m\u001b[1;3m I need to create an issue\n",
      "Action: Create Issue\n",
      "Action Input: {\"summary\": \"Make more fried rice\", \"description\": \"Reminder to make more fried rice\", \"project\": { \"key\": \"OP\" }, \"issuetype\": {\"name\": \"Task\"}, \"priority\": {\"name\": \"Low\"}}\u001b[0m\n",
      "Observation: \u001b[38;5;200m\u001b[1;3m{'id': '10006', 'key': 'OP-7', 'self': 'https://thinkovator.atlassian.net/rest/api/2/issue/10006'}\u001b[0m\n",
      "Thought:\u001b[32;1m\u001b[1;3m I now know the final answer\n",
      "Final Answer: A new issue with the summary \"Make more fried rice\" has been created in project OP.\u001b[0m\n",
      "\n",
      "\u001b[1m> Finished chain.\u001b[0m\n"
     ]
    },
    {
     "data": {
      "text/plain": [
       "'A new issue with the summary \"Make more fried rice\" has been created in project OP.'"
      ]
     },
     "execution_count": 2,
     "metadata": {},
     "output_type": "execute_result"
    }
   ],
   "source": [
    "agent.run(\"make a new issue for project OP to remind me to make more fried rice\")"
   ]
  },
  {
   "cell_type": "code",
   "execution_count": 4,
   "metadata": {},
   "outputs": [
    {
     "name": "stdout",
     "output_type": "stream",
     "text": [
      "{\n",
      "    \"expand\": \"projects\",\n",
      "    \"projects\": [\n",
      "        {\n",
      "            \"avatarUrls\": {\n",
      "                \"16x16\": \"https://thinkovator.atlassian.net/rest/api/2/universal_avatar/view/type/project/avatar/10411?size=xsmall\",\n",
      "                \"24x24\": \"https://thinkovator.atlassian.net/rest/api/2/universal_avatar/view/type/project/avatar/10411?size=small\",\n",
      "                \"32x32\": \"https://thinkovator.atlassian.net/rest/api/2/universal_avatar/view/type/project/avatar/10411?size=medium\",\n",
      "                \"48x48\": \"https://thinkovator.atlassian.net/rest/api/2/universal_avatar/view/type/project/avatar/10411\"\n",
      "            },\n",
      "            \"id\": \"10000\",\n",
      "            \"issuetypes\": [\n",
      "                {\n",
      "                    \"description\": \"Tasks track small, distinct pieces of work.\",\n",
      "                    \"iconUrl\": \"https://thinkovator.atlassian.net/rest/api/2/universal_avatar/view/type/issuetype/avatar/10318?size=medium\",\n",
      "                    \"id\": \"10001\",\n",
      "                    \"name\": \"Task\",\n",
      "                    \"scope\": {\n",
      "                        \"project\": {\n",
      "                            \"id\": \"10000\"\n",
      "                        },\n",
      "                        \"type\": \"PROJECT\"\n",
      "                    },\n",
      "                    \"self\": \"https://thinkovator.atlassian.net/rest/api/2/issuetype/10001\",\n",
      "                    \"subtask\": false,\n",
      "                    \"untranslatedName\": \"Task\"\n",
      "                },\n",
      "                {\n",
      "                    \"description\": \"Epics track collections of related bugs, stories, and tasks.\",\n",
      "                    \"iconUrl\": \"https://thinkovator.atlassian.net/rest/api/2/universal_avatar/view/type/issuetype/avatar/10307?size=medium\",\n",
      "                    \"id\": \"10002\",\n",
      "                    \"name\": \"Epic\",\n",
      "                    \"scope\": {\n",
      "                        \"project\": {\n",
      "                            \"id\": \"10000\"\n",
      "                        },\n",
      "                        \"type\": \"PROJECT\"\n",
      "                    },\n",
      "                    \"self\": \"https://thinkovator.atlassian.net/rest/api/2/issuetype/10002\",\n",
      "                    \"subtask\": false,\n",
      "                    \"untranslatedName\": \"Epic\"\n",
      "                },\n",
      "                {\n",
      "                    \"description\": \"Subtasks track small pieces of work that are part of a larger task.\",\n",
      "                    \"iconUrl\": \"https://thinkovator.atlassian.net/rest/api/2/universal_avatar/view/type/issuetype/avatar/10316?size=medium\",\n",
      "                    \"id\": \"10003\",\n",
      "                    \"name\": \"Subtask\",\n",
      "                    \"scope\": {\n",
      "                        \"project\": {\n",
      "                            \"id\": \"10000\"\n",
      "                        },\n",
      "                        \"type\": \"PROJECT\"\n",
      "                    },\n",
      "                    \"self\": \"https://thinkovator.atlassian.net/rest/api/2/issuetype/10003\",\n",
      "                    \"subtask\": true,\n",
      "                    \"untranslatedName\": \"Subtask\"\n",
      "                }\n",
      "            ],\n",
      "            \"key\": \"OP\",\n",
      "            \"name\": \"openai\",\n",
      "            \"self\": \"https://thinkovator.atlassian.net/rest/api/2/project/10000\"\n",
      "        }\n",
      "    ]\n",
      "}\n"
     ]
    }
   ],
   "source": [
    "import requests\n",
    "from requests.auth import HTTPBasicAuth\n",
    "import json\n",
    "\n",
    "base_url = os.getenv('JIRA_INSTANCE_URL')\n",
    "create_url = f\"{base_url}/rest/api/2/issue\"\n",
    "\n",
    "auth = HTTPBasicAuth(os.getenv('JIRA_USERNAME'), os.getenv('JIRA_API_TOKEN'))\n",
    "\n",
    "metadata_url = f\"{base_url}/rest/api/2/issue/createmeta\"\n",
    "\n",
    "headers = {\n",
    "  \"Accept\": \"application/json\"\n",
    "}\n",
    "\n",
    "response = requests.request(\n",
    "   \"GET\",\n",
    "   metadata_url,\n",
    "   headers=headers,\n",
    "   auth=auth\n",
    ")\n",
    "\n",
    "print(json.dumps(json.loads(response.text), sort_keys=True, indent=4, separators=(\",\", \": \")))\n"
   ]
  },
  {
   "cell_type": "code",
   "execution_count": 5,
   "metadata": {},
   "outputs": [
    {
     "name": "stdout",
     "output_type": "stream",
     "text": [
      "201\n",
      "{\n",
      "    \"id\": \"10005\",\n",
      "    \"key\": \"OP-6\",\n",
      "    \"self\": \"https://thinkovator.atlassian.net/rest/api/2/issue/10005\"\n",
      "}\n"
     ]
    }
   ],
   "source": [
    "\n",
    "payload = json.dumps( {\n",
    "  \"fields\": {\n",
    "    \"issuetype\": {\n",
    "      \"name\": \"Task\"\n",
    "    },\n",
    "    \"priority\": {\n",
    "      \"name\": \"Low\"\n",
    "    },\n",
    "    \"project\": {\n",
    "      \"key\": \"OP\"\n",
    "    },\n",
    "    \"summary\": \"Main order flow broken\",\n",
    "    \"description\": \"What do you think\"\n",
    "  }\n",
    "} )\n",
    "\n",
    "headers = {\n",
    "  \"Accept\": \"application/json\",\n",
    "  \"Content-Type\": \"application/json\"\n",
    "}\n",
    "\n",
    "response = requests.request(\n",
    "   \"POST\",\n",
    "   create_url,\n",
    "   data=payload,\n",
    "   headers=headers,\n",
    "   auth=auth\n",
    ")\n",
    "\n",
    "print(response.status_code)\n",
    "print(json.dumps(json.loads(response.text), sort_keys=True, indent=4, separators=(\",\", \": \")))"
   ]
  }
 ],
 "metadata": {
  "kernelspec": {
   "display_name": "langchain-slack-tool",
   "language": "python",
   "name": "python3"
  },
  "language_info": {
   "codemirror_mode": {
    "name": "ipython",
    "version": 3
   },
   "file_extension": ".py",
   "mimetype": "text/x-python",
   "name": "python",
   "nbconvert_exporter": "python",
   "pygments_lexer": "ipython3",
   "version": "3.9.16"
  },
  "orig_nbformat": 4
 },
 "nbformat": 4,
 "nbformat_minor": 2
}
