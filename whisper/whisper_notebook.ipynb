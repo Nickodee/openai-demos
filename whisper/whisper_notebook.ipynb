{
 "cells": [
  {
   "cell_type": "code",
   "execution_count": null,
   "metadata": {},
   "outputs": [],
   "source": [
    "import tempfile\n",
    "import pyaudio\n",
    "import openai\n",
    "import os\n",
    "\n",
    "from pydub import AudioSegment\n",
    "from dotenv import load_dotenv\n",
    "\n",
    "load_dotenv()\n",
    "\n",
    "# Initialize OpenAI API\n",
    "openai.api_key = os.getenv(\"OPENAI_API_KEY\")\n",
    "\n",
    "# Initialize PyAudio\n",
    "chunk_size = 1024\n",
    "audio_format = pyaudio.paInt16\n",
    "channels = 1\n",
    "sample_rate = 44000\n",
    "audio = pyaudio.PyAudio()"
   ]
  },
  {
   "cell_type": "code",
   "execution_count": null,
   "metadata": {},
   "outputs": [],
   "source": [
    "# Create the audio stream and transcription loop\n",
    "stream = audio.open(format=audio_format,\n",
    "                channels=channels,\n",
    "                rate=sample_rate,\n",
    "                input=True,\n",
    "                frames_per_buffer=chunk_size)\n",
    "\n",
    "# Initialize frames to store audio\n",
    "frames = []\n",
    "\n",
    "# Collect the audio until stopped\n",
    "while True:\n",
    "  try:\n",
    "    # Read audio data from the stream\n",
    "    audio_data = stream.read(chunk_size)\n",
    "    frames.append(audio_data)\n",
    "\n",
    "  except KeyboardInterrupt:\n",
    "    # Stop the stream, close it, and terminate the PyAudio instance\n",
    "    stream.stop_stream()\n",
    "    stream.close()\n",
    "    audio.terminate()\n",
    "    break"
   ]
  },
  {
   "cell_type": "code",
   "execution_count": null,
   "metadata": {},
   "outputs": [],
   "source": [
    "# Store the audio in a temporary file and transcribe it\n",
    "with tempfile.NamedTemporaryFile(suffix='.wav', delete=True) as tmp:\n",
    "    audio_segment = AudioSegment(\n",
    "        b''.join(frames),\n",
    "        frame_rate=sample_rate,\n",
    "        sample_width=audio.get_sample_size(audio_format),\n",
    "        channels=channels\n",
    "    )\n",
    "    audio_segment.export(tmp, format=\"wav\")\n",
    "\n",
    "    response = openai.Audio.transcribe(\"whisper-1\", tmp)\n",
    "    print(response)\n"
   ]
  }
 ],
 "metadata": {
  "kernelspec": {
   "display_name": ".venv",
   "language": "python",
   "name": "python3"
  },
  "language_info": {
   "codemirror_mode": {
    "name": "ipython",
    "version": 3
   },
   "file_extension": ".py",
   "mimetype": "text/x-python",
   "name": "python",
   "nbconvert_exporter": "python",
   "pygments_lexer": "ipython3",
   "version": "3.9.16"
  },
  "orig_nbformat": 4
 },
 "nbformat": 4,
 "nbformat_minor": 2
}
